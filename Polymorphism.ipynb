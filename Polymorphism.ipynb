{
  "nbformat": 4,
  "nbformat_minor": 0,
  "metadata": {
    "colab": {
      "provenance": [],
      "authorship_tag": "ABX9TyOf1g3g/hrkYpoobC0EeO0T",
      "include_colab_link": true
    },
    "kernelspec": {
      "name": "python3",
      "display_name": "Python 3"
    },
    "language_info": {
      "name": "python"
    }
  },
  "cells": [
    {
      "cell_type": "markdown",
      "metadata": {
        "id": "view-in-github",
        "colab_type": "text"
      },
      "source": [
        "<a href=\"https://colab.research.google.com/github/Aszad-Hossain-Akib/OOP/blob/main/Polymorphism.ipynb\" target=\"_parent\"><img src=\"https://colab.research.google.com/assets/colab-badge.svg\" alt=\"Open In Colab\"/></a>"
      ]
    },
    {
      "cell_type": "code",
      "execution_count": 2,
      "metadata": {
        "colab": {
          "base_uri": "https://localhost:8080/"
        },
        "id": "54uV19HsVVfZ",
        "outputId": "fc24410a-9b37-4404-ecd5-1ab198f7123a"
      },
      "outputs": [
        {
          "output_type": "stream",
          "name": "stdout",
          "text": [
            "Meow\n",
            "AHHHHHHHHH!\n",
            "I am a baby lion\n"
          ]
        }
      ],
      "source": [
        "class Animal:\n",
        "    def speak(self):\n",
        "      pront(\"Make some noise and I don't know what it sounds like\")\n",
        "\n",
        "class Cat(Animal):\n",
        "    def speak(self):\n",
        "        print(\"Meow\")\n",
        "\n",
        "class Lion(Cat):\n",
        "    def speak(self):\n",
        "        print(\"AHHHHHHHHH!\")\n",
        "\n",
        "class LionBaby(Lion):\n",
        "    def speak(self):\n",
        "        print('I am a baby lion')\n",
        "\n",
        "\n",
        "cat = Cat()\n",
        "lion = Lion()\n",
        "lion_baby = LionBaby()\n",
        "\n",
        "\n",
        "cat.speak()\n",
        "\n",
        "lion.speak()\n",
        "lion_baby.speak()"
      ]
    },
    {
      "cell_type": "code",
      "source": [],
      "metadata": {
        "id": "ATgggi8uW7t5"
      },
      "execution_count": null,
      "outputs": []
    }
  ]
}