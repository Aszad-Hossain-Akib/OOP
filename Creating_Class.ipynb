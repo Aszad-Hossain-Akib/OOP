{
  "nbformat": 4,
  "nbformat_minor": 0,
  "metadata": {
    "colab": {
      "provenance": [],
      "authorship_tag": "ABX9TyM6zVXb9PfH4HHJidNMBlzE",
      "include_colab_link": true
    },
    "kernelspec": {
      "name": "python3",
      "display_name": "Python 3"
    },
    "language_info": {
      "name": "python"
    }
  },
  "cells": [
    {
      "cell_type": "markdown",
      "metadata": {
        "id": "view-in-github",
        "colab_type": "text"
      },
      "source": [
        "<a href=\"https://colab.research.google.com/github/Aszad-Hossain-Akib/OOP/blob/main/Creating_Class.ipynb\" target=\"_parent\"><img src=\"https://colab.research.google.com/assets/colab-badge.svg\" alt=\"Open In Colab\"/></a>"
      ]
    },
    {
      "cell_type": "markdown",
      "source": [
        "Part 1 : Defining a class"
      ],
      "metadata": {
        "id": "Jzwniiz-fHCf"
      }
    },
    {
      "cell_type": "code",
      "execution_count": 2,
      "metadata": {
        "id": "YMWsA05YfAvY"
      },
      "outputs": [],
      "source": [
        "class Car:\n",
        "    def __init__(self, make, model, year, color):\n",
        "        self.make = make\n",
        "        self.model = model\n",
        "        self.year = year\n",
        "        self.color = color\n",
        "\n",
        "    def start(self):\n",
        "      print(f\"The {self.color} {self.make} {self.model} is starting\")\n",
        "\n",
        "    def stop(self):\n",
        "      print(f\"The {self.color} {self.make} {self.model} has stopped\")\n",
        "\n",
        "    def drive(self):\n",
        "      print(f\"The {self.color} {self.make} {self.model} is now driving\")\n",
        "\n",
        "    def __repr__(self):\n",
        "      return f'I am a {self.color} {self.make} {self.model} car !'"
      ]
    },
    {
      "cell_type": "markdown",
      "source": [
        "Part 2 : Creating Objects"
      ],
      "metadata": {
        "id": "4XbEsylGh6w-"
      }
    },
    {
      "cell_type": "code",
      "source": [
        "car1 = Car('Toyota', 'Camry', 2022, 'Blue')\n",
        "car1\n",
        "car2 = Car('Honda', 'Civic', 2021, 'Red')\n",
        "car2\n",
        "car3 = Car('Ford', 'Mustang', 2023, 'Yellow')\n",
        "car3"
      ],
      "metadata": {
        "colab": {
          "base_uri": "https://localhost:8080/"
        },
        "id": "-wMsrjRGghCz",
        "outputId": "0a822cee-d513-4353-9a47-92c32a70e2d0"
      },
      "execution_count": 3,
      "outputs": [
        {
          "output_type": "execute_result",
          "data": {
            "text/plain": [
              "I am a Yellow Ford Mustang car !"
            ]
          },
          "metadata": {},
          "execution_count": 3
        }
      ]
    },
    {
      "cell_type": "markdown",
      "source": [
        "Part 3 : Using methods"
      ],
      "metadata": {
        "id": "JIGvgH_BiY3y"
      }
    },
    {
      "cell_type": "code",
      "source": [
        "car1 .start()\n",
        "car2.drive()\n",
        "car3.stop()"
      ],
      "metadata": {
        "colab": {
          "base_uri": "https://localhost:8080/"
        },
        "id": "Jp9DwM3ziSa9",
        "outputId": "9acbdad5-1134-4d82-ec4d-8cf164ad6e22"
      },
      "execution_count": 4,
      "outputs": [
        {
          "output_type": "stream",
          "name": "stdout",
          "text": [
            "The Blue Toyota Camry is starting\n",
            "The Red Honda Civic is now driving\n",
            "The Yellow Ford Mustang has stopped\n"
          ]
        }
      ]
    },
    {
      "cell_type": "markdown",
      "source": [
        "BONUS DEMONSTRATION"
      ],
      "metadata": {
        "id": "V9JgZAGBi12r"
      }
    },
    {
      "cell_type": "code",
      "source": [
        "class Employee:\n",
        "    def __init__(self, name, employee_id, department, salary):\n",
        "        self.name = name\n",
        "        self.employee_id = employee_id\n",
        "        self.department = department\n",
        "        self.salary = salary\n",
        "\n",
        "    def promote(self):\n",
        "        print(f'{self.name} has been promoted')\n",
        "\n",
        "    def transfer(self ,new_department):\n",
        "        self.department = new_department\n",
        "        print(f'{self.name} has been transferred to {new_department}')\n",
        "\n",
        "    def give_raise(self, amount):\n",
        "        self.salary += amount\n",
        "        print(f'New salary of {self.name} is ${self.salary}')\n",
        "\n",
        "employee1 = Employee('John Doe', \"A12345\", 'HR', 50000)\n",
        "employee2 = Employee('Jane Smith', \"B67890\", 'IT', 60000)\n",
        "employee3 = Employee('Bob Johnson', \"C54321\", 'Finance', 55000)\n",
        "\n",
        "employee1.promote()\n",
        "employee2.transfer('IT')\n",
        "employee3.give_raise(10000)"
      ],
      "metadata": {
        "colab": {
          "base_uri": "https://localhost:8080/"
        },
        "id": "ULE2vfxrixxR",
        "outputId": "acbed0f5-5b02-4cff-da15-f5a734d373e1"
      },
      "execution_count": 8,
      "outputs": [
        {
          "output_type": "stream",
          "name": "stdout",
          "text": [
            "John Doe has been promoted\n",
            "Jane Smith has been transferred to IT\n",
            "New salary of Bob Johnson is $65000\n"
          ]
        }
      ]
    }
  ]
}