{
  "nbformat": 4,
  "nbformat_minor": 0,
  "metadata": {
    "colab": {
      "provenance": [],
      "authorship_tag": "ABX9TyNJ2WLefKXD5r6+IMGxCofV",
      "include_colab_link": true
    },
    "kernelspec": {
      "name": "python3",
      "display_name": "Python 3"
    },
    "language_info": {
      "name": "python"
    }
  },
  "cells": [
    {
      "cell_type": "markdown",
      "metadata": {
        "id": "view-in-github",
        "colab_type": "text"
      },
      "source": [
        "<a href=\"https://colab.research.google.com/github/Aszad-Hossain-Akib/OOP/blob/main/Polymorphism_Exercise.ipynb\" target=\"_parent\"><img src=\"https://colab.research.google.com/assets/colab-badge.svg\" alt=\"Open In Colab\"/></a>"
      ]
    },
    {
      "cell_type": "code",
      "source": [
        "Exercise 1"
      ],
      "metadata": {
        "id": "npLGFSPDYTfd"
      },
      "execution_count": null,
      "outputs": []
    },
    {
      "cell_type": "code",
      "execution_count": 3,
      "metadata": {
        "colab": {
          "base_uri": "https://localhost:8080/"
        },
        "id": "54uV19HsVVfZ",
        "outputId": "1fcbb0cc-5835-4087-8263-f22d4296b96e"
      },
      "outputs": [
        {
          "output_type": "stream",
          "name": "stdout",
          "text": [
            "Generic employee pay\n",
            "Full time employee pay\n",
            "Hourly employee pay\n",
            "Generic employee pay\n",
            "Full time employee pay\n",
            "Hourly employee pay\n"
          ]
        }
      ],
      "source": [
        "class Employee:\n",
        "    def get_pay(self):\n",
        "\n",
        "      return 'Generic employee pay'\n",
        "\n",
        "class FullTimeEmployee(Employee):\n",
        "    def get_pay(self):\n",
        "        return 'Full time employee pay'\n",
        "\n",
        "class HourlyEmployee(Employee):\n",
        "    def get_pay(self):\n",
        "        return 'Hourly employee pay'\n",
        "\n",
        "employee = Employee()\n",
        "full_time_employee = FullTimeEmployee()\n",
        "hourly_employee = HourlyEmployee()\n",
        "\n",
        "for worker in (employee, full_time_employee, hourly_employee):\n",
        "    print(worker.get_pay())"
      ]
    },
    {
      "cell_type": "markdown",
      "source": [
        "Exercise 2"
      ],
      "metadata": {
        "id": "YYc9vh3nZXcS"
      }
    },
    {
      "cell_type": "code",
      "source": [
        "import math\n",
        "\n",
        "class Shape:\n",
        "      def area(self):\n",
        "        return 'Undefined Area'\n",
        "\n",
        "class Rectangle(Shape):\n",
        "    def __init__(self, width, height):\n",
        "        self.width = width\n",
        "        self.height = height\n",
        "\n",
        "    def area(self):\n",
        "        return self.width * self.height\n",
        "\n",
        "class Circle(Shape):\n",
        "    def __init__(self, radius):\n",
        "        self.radius = radius\n",
        "\n",
        "    def area(self):\n",
        "        return math.pi * self.radius ** 2\n",
        "\n",
        "class Triangle(Shape):\n",
        "    def __init__(self, base, height):\n",
        "        self.base = base\n",
        "        self.height = height\n",
        "\n",
        "    def area(self):\n",
        "        return 0.5 * self.base * self.height\n",
        "\n",
        "rectangle = Rectangle(4, 6)\n",
        "circle = Circle(5)\n",
        "triangle = Triangle(3, 8)\n",
        "\n",
        "for shape in (rectangle, circle, triangle):\n",
        "    print(shape.area())"
      ],
      "metadata": {
        "colab": {
          "base_uri": "https://localhost:8080/"
        },
        "id": "viTU5OsnZZWc",
        "outputId": "0b1b25fc-1303-4550-d4b7-97b2b29b3a6c"
      },
      "execution_count": 4,
      "outputs": [
        {
          "output_type": "stream",
          "name": "stdout",
          "text": [
            "24\n",
            "78.53981633974483\n",
            "12.0\n"
          ]
        }
      ]
    },
    {
      "cell_type": "markdown",
      "source": [
        "Exercise 3"
      ],
      "metadata": {
        "id": "X27Ts2gUacVj"
      }
    },
    {
      "cell_type": "code",
      "source": [
        "class Appliance:\n",
        "    def turn_on(self):\n",
        "      return 'Appliance is now on'\n",
        "class WashingMachine(Appliance):\n",
        "    def turn_on(self):\n",
        "        return 'Washing Machine is now on'\n",
        "class Fridge(Appliance):\n",
        "    def turn_on(self):\n",
        "        return 'Fridge is now on'\n",
        "class AirConditioner(Appliance):\n",
        "    def turn_on(self):\n",
        "        return 'Air Conditioner is now on'\n",
        "\n",
        "appliance = Appliance()\n",
        "washing_machine = WashingMachine()\n",
        "fridge = Fridge()\n",
        "air_conditioner = AirConditioner()\n",
        "\n",
        "for device in (appliance, washing_machine, fridge, air_conditioner):\n",
        "    print(device.turn_on())\n"
      ],
      "metadata": {
        "id": "ATgggi8uW7t5",
        "colab": {
          "base_uri": "https://localhost:8080/"
        },
        "outputId": "1fb4a42c-ba37-4aaa-f772-0dcd43b527ba"
      },
      "execution_count": 5,
      "outputs": [
        {
          "output_type": "stream",
          "name": "stdout",
          "text": [
            "Appliance is now on\n",
            "Washing Machine is now on\n",
            "Fridge is now on\n",
            "Air Conditioner is now on\n"
          ]
        }
      ]
    },
    {
      "cell_type": "code",
      "source": [],
      "metadata": {
        "id": "rJpY8qA_clRM"
      },
      "execution_count": null,
      "outputs": []
    }
  ]
}