{
  "nbformat": 4,
  "nbformat_minor": 0,
  "metadata": {
    "colab": {
      "provenance": [],
      "authorship_tag": "ABX9TyM580yY0bza2WpN58SaY0UB",
      "include_colab_link": true
    },
    "kernelspec": {
      "name": "python3",
      "display_name": "Python 3"
    },
    "language_info": {
      "name": "python"
    }
  },
  "cells": [
    {
      "cell_type": "markdown",
      "metadata": {
        "id": "view-in-github",
        "colab_type": "text"
      },
      "source": [
        "<a href=\"https://colab.research.google.com/github/Aszad-Hossain-Akib/OOP/blob/main/Inheritance_example.ipynb\" target=\"_parent\"><img src=\"https://colab.research.google.com/assets/colab-badge.svg\" alt=\"Open In Colab\"/></a>"
      ]
    },
    {
      "cell_type": "markdown",
      "source": [
        "Example 1"
      ],
      "metadata": {
        "id": "Z_LwGADJNtDS"
      }
    },
    {
      "cell_type": "code",
      "execution_count": 1,
      "metadata": {
        "colab": {
          "base_uri": "https://localhost:8080/"
        },
        "id": "TyaRg0eoJqDb",
        "outputId": "5a69ae8b-55a1-49e4-94f1-de22c6ca5006"
      },
      "outputs": [
        {
          "output_type": "stream",
          "name": "stdout",
          "text": [
            "Person Name : John Age : 30\n",
            "Student Name : Alice Age : 20 Student ID : S001\n",
            "Teacher Name : Mr. Smith Age : 40 Subject : Mathematics\n"
          ]
        }
      ],
      "source": [
        "class Person:\n",
        "    def __init__(self, name, age):\n",
        "        self.name = name\n",
        "        self.age = age\n",
        "\n",
        "class Student(Person):\n",
        "    def __init__(self, name, age, student_id):\n",
        "        super().__init__(name, age)\n",
        "        self.student_id = student_id\n",
        "\n",
        "class Teacher(Person):\n",
        "    def __init__(self, name, age, subject):\n",
        "        super().__init__(name, age)\n",
        "        self.subject = subject\n",
        "\n",
        "\n",
        "person = Person(\"John\", 30)\n",
        "print(f'Person Name : {person.name} Age : {person.age}')\n",
        "\n",
        "student = Student(\"Alice\", 20, \"S001\")\n",
        "print(f'Student Name : {student.name} Age : {student.age} Student ID : {student.student_id}')\n",
        "\n",
        "teacher = Teacher(\"Mr. Smith\", 40, \"Mathematics\")\n",
        "print(f'Teacher Name : {teacher.name} Age : {teacher.age} Subject : {teacher.subject}')"
      ]
    },
    {
      "cell_type": "markdown",
      "source": [
        "Example 2"
      ],
      "metadata": {
        "id": "3F_iHbQITcuk"
      }
    },
    {
      "cell_type": "code",
      "source": [
        "class Animal:\n",
        "\n",
        "    def __init__(self, species, diet):\n",
        "        self.species = species\n",
        "        self.diet = diet\n",
        "\n",
        "class Mammal(Animal):\n",
        "    def __init__(self, species, diet, fur_color):\n",
        "      super().__init__(species, diet)\n",
        "      self.fur_color = fur_color\n",
        "\n",
        "class Bird(Animal):\n",
        "    def __init__(self, species, diet, wing_span):\n",
        "      super().__init__(species, diet)\n",
        "      self.wingspan = wing_span\n",
        "\n",
        "animal = Animal(\"Generic\", \"Omnivore\")\n",
        "print(f'Species : {animal.species} Diet : {animal.diet}')\n",
        "\n",
        "mammal = Mammal(\"Lion\", \"Carnivore\", \"Yellow\")\n",
        "print(f'Species : {mammal.species} Diet : {mammal.diet} Fur Color : {mammal.fur_color}')\n",
        "\n",
        "bird = Bird(\"Eagle\", \"Carnivore\", 15)\n",
        "print(f'Species : {bird.species} Diet : {bird.diet} Wingspan : {bird.wingspan}')"
      ],
      "metadata": {
        "colab": {
          "base_uri": "https://localhost:8080/"
        },
        "id": "NanZi8e2NisV",
        "outputId": "2796a522-972a-4418-e012-2c83cf143499"
      },
      "execution_count": 4,
      "outputs": [
        {
          "output_type": "stream",
          "name": "stdout",
          "text": [
            "Species : Generic Diet : Omnivore\n",
            "Species : Lion Diet : Carnivore Fur Color : Yellow\n",
            "Species : Eagle Diet : Carnivore Wingspan : 15\n"
          ]
        }
      ]
    },
    {
      "cell_type": "markdown",
      "source": [
        "Example 3"
      ],
      "metadata": {
        "id": "YPzJTbc3TfWb"
      }
    },
    {
      "cell_type": "code",
      "source": [
        "class Vehicle:\n",
        "    def __init__(self, make, model, year):\n",
        "        self.make = make\n",
        "        self.model = model\n",
        "        self.year = year\n",
        "\n",
        "class Car(Vehicle):\n",
        "    def __init__(self, make, model, year, num_doors):\n",
        "        super().__init__(make, model, year)\n",
        "        self.num_doors = num_doors\n",
        "\n",
        "class Truck(Vehicle):\n",
        "    def __init__(self, make, model, year, payload_capacity):\n",
        "        super().__init__(make, model, year)\n",
        "        self.payload_capacity = payload_capacity\n",
        "\n",
        "vehicle = Vehicle(\"Toyota\", \"Camry\", 2022)\n",
        "print(f'Make : {vehicle.make} Model : {vehicle.model} Year : {vehicle.year}')\n",
        "\n",
        "car = Car(\"Ford\", \"Mustang\", 2023, 4)\n",
        "print(f'Make : {car.make} Model : {car.model} Year : {car.year} Number of Doors : {car.num_doors}')\n",
        "\n",
        "truck = Truck(\"Chevrolet\", \"Silverado\", 2022, 5000)\n",
        "print(f'Make : {truck.make} Model : {truck.model} Year : {truck.year} Payload Capacity : {truck.payload_capacity}')"
      ],
      "metadata": {
        "colab": {
          "base_uri": "https://localhost:8080/"
        },
        "id": "3Bcys5ZFTg6r",
        "outputId": "512601b3-d4bb-445c-fabf-aff2dc874e15"
      },
      "execution_count": 5,
      "outputs": [
        {
          "output_type": "stream",
          "name": "stdout",
          "text": [
            "Make : Toyota Model : Camry Year : 2022\n"
          ]
        }
      ]
    },
    {
      "cell_type": "code",
      "source": [],
      "metadata": {
        "id": "jPhLHTGEUyZo"
      },
      "execution_count": null,
      "outputs": []
    }
  ]
}