{
  "nbformat": 4,
  "nbformat_minor": 0,
  "metadata": {
    "colab": {
      "provenance": [],
      "authorship_tag": "ABX9TyNzLhPkOn9RPzCBhKcwShTO",
      "include_colab_link": true
    },
    "kernelspec": {
      "name": "python3",
      "display_name": "Python 3"
    },
    "language_info": {
      "name": "python"
    }
  },
  "cells": [
    {
      "cell_type": "markdown",
      "metadata": {
        "id": "view-in-github",
        "colab_type": "text"
      },
      "source": [
        "<a href=\"https://colab.research.google.com/github/Aszad-Hossain-Akib/OOP/blob/main/Encapsulation.ipynb\" target=\"_parent\"><img src=\"https://colab.research.google.com/assets/colab-badge.svg\" alt=\"Open In Colab\"/></a>"
      ]
    },
    {
      "cell_type": "code",
      "execution_count": 5,
      "metadata": {
        "colab": {
          "base_uri": "https://localhost:8080/"
        },
        "id": "73M3XiOpeGkh",
        "outputId": "cc60b0df-8451-40c4-bbbb-105fc47135b1"
      },
      "outputs": [
        {
          "output_type": "stream",
          "name": "stdout",
          "text": [
            "1\n",
            "2\n"
          ]
        }
      ],
      "source": [
        "class E:\n",
        "    def __init__(self):\n",
        "\n",
        "      self.att1 = 1\n",
        "\n",
        "      self._att2 = 2\n",
        "\n",
        "      self.__att3 = 3\n",
        "\n",
        "e = E()\n",
        "\n",
        "\n",
        "print(e.att1)\n",
        "print(e._att2)\n",
        "\n",
        "\n",
        ""
      ]
    },
    {
      "cell_type": "code",
      "source": [
        "class E:\n",
        "  def __init__(self):\n",
        "      self.att1 = 1\n",
        "\n",
        "      self._att2 = 2\n",
        "\n",
        "      self.__att3 = 3\n",
        "\n",
        "  @property\n",
        "  def att2(self):\n",
        "    return self._att2\n",
        "\n",
        "  @att2.setter\n",
        "  def att2(self,v):\n",
        "    print(f'''You are out of your mind!\n",
        "          The original value {self.att2} will be changed to {v}''')\n",
        "    self._att2 = v\n",
        "\n",
        "  @property\n",
        "  def att3(self):\n",
        "    print('I am a private attribute')\n",
        "    return self.__att3\n",
        "\n",
        "  def set_att3(self,v):\n",
        "    print(f'''You are out of your mind!\n",
        "          The original value {self.__att3} will be changed to {v}''')\n",
        "    self.__att3 = v\n",
        "\n",
        "  @att3.setter\n",
        "  def att3(self,v):\n",
        "    print(f'''You are out of your mind!\n",
        "          The original value {self.__att3} will be changed to {v}''')\n",
        "\n",
        "e = E()\n",
        "\n",
        "print('Original values')\n",
        "print(e.att1)\n",
        "print(e.att2)\n",
        "print(e.att3)\n",
        "\n",
        "print('We are changing the values')\n",
        "e.att1 = 4\n",
        "e.att2 = 5\n",
        "e.att3 = 6\n",
        "\n",
        "print('New values')\n",
        "print(e.att1)\n",
        "print(e.att2)\n",
        "print(e.att3)\n",
        "\n",
        "\n",
        ""
      ],
      "metadata": {
        "colab": {
          "base_uri": "https://localhost:8080/"
        },
        "id": "tY_5qUiHeuCY",
        "outputId": "a27867be-c896-48be-8e36-8117da4e9d6b"
      },
      "execution_count": 1,
      "outputs": [
        {
          "output_type": "stream",
          "name": "stdout",
          "text": [
            "Original values\n",
            "1\n",
            "2\n",
            "I am a private attribute\n",
            "3\n",
            "We are changing the values\n",
            "You are out of your mind!\n",
            "          The original value 2 will be changed to 5\n",
            "You are out of your mind!\n",
            "          The original value 3 will be changed to 6\n",
            "New values\n",
            "4\n",
            "5\n",
            "I am a private attribute\n",
            "3\n"
          ]
        }
      ]
    },
    {
      "cell_type": "code",
      "source": [],
      "metadata": {
        "id": "valopFv3hFtw"
      },
      "execution_count": null,
      "outputs": []
    }
  ]
}