{
  "nbformat": 4,
  "nbformat_minor": 0,
  "metadata": {
    "colab": {
      "provenance": [],
      "authorship_tag": "ABX9TyOR4PSRSA1LEM3BMiHfSHah",
      "include_colab_link": true
    },
    "kernelspec": {
      "name": "python3",
      "display_name": "Python 3"
    },
    "language_info": {
      "name": "python"
    }
  },
  "cells": [
    {
      "cell_type": "markdown",
      "metadata": {
        "id": "view-in-github",
        "colab_type": "text"
      },
      "source": [
        "<a href=\"https://colab.research.google.com/github/Aszad-Hossain-Akib/OOP/blob/main/Inheritance.ipynb\" target=\"_parent\"><img src=\"https://colab.research.google.com/assets/colab-badge.svg\" alt=\"Open In Colab\"/></a>"
      ]
    },
    {
      "cell_type": "markdown",
      "source": [
        "Inheritance"
      ],
      "metadata": {
        "id": "-7OjKZWGHpKS"
      }
    },
    {
      "cell_type": "code",
      "execution_count": 1,
      "metadata": {
        "id": "MhAoGJCoFNI2"
      },
      "outputs": [],
      "source": [
        "class A:\n",
        "    def __init__(self, att1, att2):\n",
        "      self.att1,self.att2 = att1,att2\n",
        "\n",
        "    def act(self):\n",
        "      print('The act defined in class A')\n",
        "\n",
        "class B(A):\n",
        "    def __init__(self, att1, att2, att3):\n",
        "      super().__init__(att1, att2)\n",
        "      self.att3 = att3\n",
        "\n",
        "class C(A):\n",
        "    def __init__(self, att1, att2, att4):\n",
        "      super().__init__(att1, att2)\n",
        "      self.att4 = att4\n",
        "\n",
        "class D(A):\n",
        "    def __init__(self, att1, att2, att5):\n",
        "      super().__init__(att1, att2)\n",
        "      self.att5 = att5"
      ]
    },
    {
      "cell_type": "code",
      "source": [
        "a = A('Class A', 'SuperClass')\n",
        "print(a.att1,a.att2)\n",
        "a.act()"
      ],
      "metadata": {
        "colab": {
          "base_uri": "https://localhost:8080/"
        },
        "id": "Iu0FFnNxHmQw",
        "outputId": "e662ee6e-4231-4023-8058-bfb57c7a6f91"
      },
      "execution_count": 2,
      "outputs": [
        {
          "output_type": "stream",
          "name": "stdout",
          "text": [
            "Class A SuperClass\n",
            "The act defined in class A\n"
          ]
        }
      ]
    },
    {
      "cell_type": "code",
      "source": [
        "b = B('Class B', 'subclass', 'Bat')\n",
        "print(b.att1, b.att2, b.att3)\n",
        "b.act()"
      ],
      "metadata": {
        "colab": {
          "base_uri": "https://localhost:8080/"
        },
        "id": "pjlJAvtWIpJi",
        "outputId": "65221f4b-f01b-45fe-bb84-14257b0f1a80"
      },
      "execution_count": 4,
      "outputs": [
        {
          "output_type": "stream",
          "name": "stdout",
          "text": [
            "Class B subclass Bat\n",
            "The act defined in class A\n"
          ]
        }
      ]
    },
    {
      "cell_type": "code",
      "source": [
        "c = C('Class C', 'subclass', 'Cat')\n",
        "print(c.att1, c.att2, c.att4)\n",
        "c.act()"
      ],
      "metadata": {
        "colab": {
          "base_uri": "https://localhost:8080/"
        },
        "id": "6ukOhW8-I_ZX",
        "outputId": "eb3d9932-0e84-4444-ec19-5f430629c0c3"
      },
      "execution_count": 5,
      "outputs": [
        {
          "output_type": "stream",
          "name": "stdout",
          "text": [
            "Class C subclass Cat\n",
            "The act defined in class A\n"
          ]
        }
      ]
    },
    {
      "cell_type": "code",
      "source": [
        "d = D('Class D', 'subclass', 'Dog')\n",
        "print(d.att1, d.att2, d.att5)\n",
        "d.act()"
      ],
      "metadata": {
        "colab": {
          "base_uri": "https://localhost:8080/"
        },
        "id": "xZwbczIXJKLO",
        "outputId": "9f998323-0a11-4ed5-f850-456f886b2b55"
      },
      "execution_count": 6,
      "outputs": [
        {
          "output_type": "stream",
          "name": "stdout",
          "text": [
            "Class D subclass Dog\n",
            "The act defined in class A\n"
          ]
        }
      ]
    },
    {
      "cell_type": "code",
      "source": [],
      "metadata": {
        "id": "mIWmAHkdJNoC"
      },
      "execution_count": null,
      "outputs": []
    }
  ]
}