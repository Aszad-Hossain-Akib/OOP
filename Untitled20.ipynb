{
  "nbformat": 4,
  "nbformat_minor": 0,
  "metadata": {
    "colab": {
      "provenance": [],
      "authorship_tag": "ABX9TyN+F97iM+ZY2Lb5bLDPC6Sh",
      "include_colab_link": true
    },
    "kernelspec": {
      "name": "python3",
      "display_name": "Python 3"
    },
    "language_info": {
      "name": "python"
    }
  },
  "cells": [
    {
      "cell_type": "markdown",
      "metadata": {
        "id": "view-in-github",
        "colab_type": "text"
      },
      "source": [
        "<a href=\"https://colab.research.google.com/github/Aszad-Hossain-Akib/OOP/blob/main/Untitled20.ipynb\" target=\"_parent\"><img src=\"https://colab.research.google.com/assets/colab-badge.svg\" alt=\"Open In Colab\"/></a>"
      ]
    },
    {
      "cell_type": "markdown",
      "source": [
        "Exercise 1"
      ],
      "metadata": {
        "id": "z_mNuedyhc5i"
      }
    },
    {
      "cell_type": "code",
      "execution_count": 2,
      "metadata": {
        "colab": {
          "base_uri": "https://localhost:8080/"
        },
        "id": "2O4K1tT-hajE",
        "outputId": "3e3f231f-b40b-4e84-b705-bfc57b31956b"
      },
      "outputs": [
        {
          "output_type": "stream",
          "name": "stdout",
          "text": [
            "Jane got a raise of 10000. New salary: 60000\n",
            "Current salary: 60000\n"
          ]
        }
      ],
      "source": [
        "class Employee:\n",
        "    def __init__(self, name, salary):\n",
        "      self.name = name\n",
        "\n",
        "      self.__salary = salary\n",
        "\n",
        "    def give_raise(self, amount):\n",
        "      if amount > 0:\n",
        "        self.__salary += amount\n",
        "        print(f'{self.name} got a raise of {amount}. New salary: {self.__salary}')\n",
        "\n",
        "      else:\n",
        "        print('Raise amount must be positive')\n",
        "\n",
        "    def get_salary(self):\n",
        "      return self.__salary\n",
        "\n",
        "employee = Employee('Jane', 50000)\n",
        "employee.give_raise(10000)\n",
        "\n",
        "print(f'Current salary: {employee.get_salary()}')"
      ]
    },
    {
      "cell_type": "markdown",
      "source": [
        "Exercise 2"
      ],
      "metadata": {
        "id": "8_SEXCcMlFIY"
      }
    },
    {
      "cell_type": "code",
      "source": [
        "class Book:\n",
        "  def __init__(self, title, pages):\n",
        "    self.title = title\n",
        "\n",
        "    self.__pages = pages\n",
        "\n",
        "  def add_pages(self, extra_pages):\n",
        "    if extra_pages > 0:\n",
        "      self.__pages += extra_pages\n",
        "      print(f'{self.title} now has {self.__pages} pages')\n",
        "\n",
        "    else:\n",
        "      print('Extra pages must be positive')\n",
        "\n",
        "  def get_pages(self):\n",
        "    return self.__pages\n",
        "\n",
        "book = Book('The Great Gatsby', 180)\n",
        "book.add_pages(120)\n",
        "\n",
        "print(f'Total pages: {book.get_pages()}')"
      ],
      "metadata": {
        "colab": {
          "base_uri": "https://localhost:8080/"
        },
        "id": "Y6uP_PFmksjw",
        "outputId": "19245889-32a8-457e-a485-ec7e748b4780"
      },
      "execution_count": 4,
      "outputs": [
        {
          "output_type": "stream",
          "name": "stdout",
          "text": [
            "The Great Gatsby now has 300 pages\n",
            "Total pages: 300\n"
          ]
        }
      ]
    },
    {
      "cell_type": "markdown",
      "source": [
        "Exercise 3"
      ],
      "metadata": {
        "id": "gD7TBkSsmDoF"
      }
    },
    {
      "cell_type": "code",
      "source": [
        "class Movie:\n",
        "  def __init__(self, title, rating):\n",
        "    self.title = title\n",
        "\n",
        "    self.__rating = max(0, min(rating, 10))\n",
        "\n",
        "  def set_rating(self, new_rating):\n",
        "    if new_rating >= 0 and new_rating <= 10:\n",
        "      self.__rating = new_rating\n",
        "      print(f'New rating for {self.title}: {self.__rating}')\n",
        "    else:\n",
        "      print('Invalid rating. Rating must be between 0 and 10.')\n",
        "\n",
        "  def get_rating(self):\n",
        "    return self.__rating\n",
        "\n",
        "movie = Movie('The Shawshank Redemption', 9)\n",
        "movie.set_rating(8)"
      ],
      "metadata": {
        "colab": {
          "base_uri": "https://localhost:8080/"
        },
        "id": "S891y0VGl_ux",
        "outputId": "709a38a8-7f6e-43e7-e371-46a26eb2a7d8"
      },
      "execution_count": 8,
      "outputs": [
        {
          "output_type": "stream",
          "name": "stdout",
          "text": [
            "New rating for The Shawshank Redemption: 8\n"
          ]
        }
      ]
    },
    {
      "cell_type": "code",
      "source": [],
      "metadata": {
        "id": "9rRX07yKmRky"
      },
      "execution_count": null,
      "outputs": []
    }
  ]
}